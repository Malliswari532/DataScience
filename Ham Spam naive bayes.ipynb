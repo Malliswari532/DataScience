{
 "cells": [
  {
   "cell_type": "code",
   "execution_count": 1,
   "id": "2cc4e25c",
   "metadata": {},
   "outputs": [],
   "source": [
    "import pandas as pd"
   ]
  },
  {
   "cell_type": "code",
   "execution_count": 2,
   "id": "f05fdfcd",
   "metadata": {},
   "outputs": [],
   "source": [
    "import numpy as np"
   ]
  },
  {
   "cell_type": "code",
   "execution_count": 3,
   "id": "a6804963",
   "metadata": {},
   "outputs": [],
   "source": [
    "import matplotlib.pyplot as plt"
   ]
  },
  {
   "cell_type": "code",
   "execution_count": 4,
   "id": "e41d0a33",
   "metadata": {},
   "outputs": [],
   "source": [
    "import seaborn as sns"
   ]
  },
  {
   "cell_type": "code",
   "execution_count": 6,
   "id": "82842bd2",
   "metadata": {},
   "outputs": [],
   "source": [
    "df = pd.read_csv(\"C:/Users/91970/OneDrive/Documents/spam1.csv\")"
   ]
  },
  {
   "cell_type": "code",
   "execution_count": 7,
   "id": "e8960f5c",
   "metadata": {},
   "outputs": [
    {
     "data": {
      "text/html": [
       "<div>\n",
       "<style scoped>\n",
       "    .dataframe tbody tr th:only-of-type {\n",
       "        vertical-align: middle;\n",
       "    }\n",
       "\n",
       "    .dataframe tbody tr th {\n",
       "        vertical-align: top;\n",
       "    }\n",
       "\n",
       "    .dataframe thead th {\n",
       "        text-align: right;\n",
       "    }\n",
       "</style>\n",
       "<table border=\"1\" class=\"dataframe\">\n",
       "  <thead>\n",
       "    <tr style=\"text-align: right;\">\n",
       "      <th></th>\n",
       "      <th>v1</th>\n",
       "      <th>v2</th>\n",
       "      <th>Unnamed: 2</th>\n",
       "      <th>Unnamed: 3</th>\n",
       "      <th>Unnamed: 4</th>\n",
       "    </tr>\n",
       "  </thead>\n",
       "  <tbody>\n",
       "    <tr>\n",
       "      <th>0</th>\n",
       "      <td>ham</td>\n",
       "      <td>Go until jurong point, crazy.. Available only ...</td>\n",
       "      <td>NaN</td>\n",
       "      <td>NaN</td>\n",
       "      <td>NaN</td>\n",
       "    </tr>\n",
       "    <tr>\n",
       "      <th>1</th>\n",
       "      <td>ham</td>\n",
       "      <td>Ok lar... Joking wif u oni...</td>\n",
       "      <td>NaN</td>\n",
       "      <td>NaN</td>\n",
       "      <td>NaN</td>\n",
       "    </tr>\n",
       "    <tr>\n",
       "      <th>2</th>\n",
       "      <td>spam</td>\n",
       "      <td>Free entry in 2 a wkly comp to win FA Cup fina...</td>\n",
       "      <td>NaN</td>\n",
       "      <td>NaN</td>\n",
       "      <td>NaN</td>\n",
       "    </tr>\n",
       "    <tr>\n",
       "      <th>3</th>\n",
       "      <td>ham</td>\n",
       "      <td>U dun say so early hor... U c already then say...</td>\n",
       "      <td>NaN</td>\n",
       "      <td>NaN</td>\n",
       "      <td>NaN</td>\n",
       "    </tr>\n",
       "    <tr>\n",
       "      <th>4</th>\n",
       "      <td>ham</td>\n",
       "      <td>Nah I don't think he goes to usf, he lives aro...</td>\n",
       "      <td>NaN</td>\n",
       "      <td>NaN</td>\n",
       "      <td>NaN</td>\n",
       "    </tr>\n",
       "    <tr>\n",
       "      <th>...</th>\n",
       "      <td>...</td>\n",
       "      <td>...</td>\n",
       "      <td>...</td>\n",
       "      <td>...</td>\n",
       "      <td>...</td>\n",
       "    </tr>\n",
       "    <tr>\n",
       "      <th>5567</th>\n",
       "      <td>spam</td>\n",
       "      <td>This is the 2nd time we have tried 2 contact u...</td>\n",
       "      <td>NaN</td>\n",
       "      <td>NaN</td>\n",
       "      <td>NaN</td>\n",
       "    </tr>\n",
       "    <tr>\n",
       "      <th>5568</th>\n",
       "      <td>ham</td>\n",
       "      <td>Will �_ b going to esplanade fr home?</td>\n",
       "      <td>NaN</td>\n",
       "      <td>NaN</td>\n",
       "      <td>NaN</td>\n",
       "    </tr>\n",
       "    <tr>\n",
       "      <th>5569</th>\n",
       "      <td>ham</td>\n",
       "      <td>Pity, * was in mood for that. So...any other s...</td>\n",
       "      <td>NaN</td>\n",
       "      <td>NaN</td>\n",
       "      <td>NaN</td>\n",
       "    </tr>\n",
       "    <tr>\n",
       "      <th>5570</th>\n",
       "      <td>ham</td>\n",
       "      <td>The guy did some bitching but I acted like i'd...</td>\n",
       "      <td>NaN</td>\n",
       "      <td>NaN</td>\n",
       "      <td>NaN</td>\n",
       "    </tr>\n",
       "    <tr>\n",
       "      <th>5571</th>\n",
       "      <td>ham</td>\n",
       "      <td>Rofl. Its true to its name</td>\n",
       "      <td>NaN</td>\n",
       "      <td>NaN</td>\n",
       "      <td>NaN</td>\n",
       "    </tr>\n",
       "  </tbody>\n",
       "</table>\n",
       "<p>5572 rows × 5 columns</p>\n",
       "</div>"
      ],
      "text/plain": [
       "        v1                                                 v2 Unnamed: 2  \\\n",
       "0      ham  Go until jurong point, crazy.. Available only ...        NaN   \n",
       "1      ham                      Ok lar... Joking wif u oni...        NaN   \n",
       "2     spam  Free entry in 2 a wkly comp to win FA Cup fina...        NaN   \n",
       "3      ham  U dun say so early hor... U c already then say...        NaN   \n",
       "4      ham  Nah I don't think he goes to usf, he lives aro...        NaN   \n",
       "...    ...                                                ...        ...   \n",
       "5567  spam  This is the 2nd time we have tried 2 contact u...        NaN   \n",
       "5568   ham              Will �_ b going to esplanade fr home?        NaN   \n",
       "5569   ham  Pity, * was in mood for that. So...any other s...        NaN   \n",
       "5570   ham  The guy did some bitching but I acted like i'd...        NaN   \n",
       "5571   ham                         Rofl. Its true to its name        NaN   \n",
       "\n",
       "     Unnamed: 3 Unnamed: 4  \n",
       "0           NaN        NaN  \n",
       "1           NaN        NaN  \n",
       "2           NaN        NaN  \n",
       "3           NaN        NaN  \n",
       "4           NaN        NaN  \n",
       "...         ...        ...  \n",
       "5567        NaN        NaN  \n",
       "5568        NaN        NaN  \n",
       "5569        NaN        NaN  \n",
       "5570        NaN        NaN  \n",
       "5571        NaN        NaN  \n",
       "\n",
       "[5572 rows x 5 columns]"
      ]
     },
     "execution_count": 7,
     "metadata": {},
     "output_type": "execute_result"
    }
   ],
   "source": [
    "df"
   ]
  },
  {
   "cell_type": "code",
   "execution_count": 8,
   "id": "eb2a7c1f",
   "metadata": {},
   "outputs": [
    {
     "data": {
      "text/plain": [
       "Index(['v1', 'v2', 'Unnamed: 2', 'Unnamed: 3', 'Unnamed: 4'], dtype='object')"
      ]
     },
     "execution_count": 8,
     "metadata": {},
     "output_type": "execute_result"
    }
   ],
   "source": [
    "df.columns"
   ]
  },
  {
   "cell_type": "code",
   "execution_count": 9,
   "id": "edeceec3",
   "metadata": {},
   "outputs": [],
   "source": [
    "df.drop(\"Unnamed: 2\",axis=1,inplace=True)"
   ]
  },
  {
   "cell_type": "code",
   "execution_count": 10,
   "id": "5530dce9",
   "metadata": {},
   "outputs": [],
   "source": [
    "df.drop(\"Unnamed: 3\",axis=1,inplace=True)"
   ]
  },
  {
   "cell_type": "code",
   "execution_count": 11,
   "id": "8c5a6ac9",
   "metadata": {},
   "outputs": [],
   "source": [
    "df.drop(\"Unnamed: 4\",axis=1,inplace=True)"
   ]
  },
  {
   "cell_type": "code",
   "execution_count": 12,
   "id": "3bb26d2d",
   "metadata": {},
   "outputs": [
    {
     "data": {
      "text/plain": [
       "Index(['v1', 'v2'], dtype='object')"
      ]
     },
     "execution_count": 12,
     "metadata": {},
     "output_type": "execute_result"
    }
   ],
   "source": [
    "df.columns"
   ]
  },
  {
   "cell_type": "code",
   "execution_count": 13,
   "id": "04c52366",
   "metadata": {},
   "outputs": [],
   "source": [
    "df.columns = [\"Category\",\"Message\"]"
   ]
  },
  {
   "cell_type": "code",
   "execution_count": 14,
   "id": "c44955ad",
   "metadata": {},
   "outputs": [
    {
     "data": {
      "text/html": [
       "<div>\n",
       "<style scoped>\n",
       "    .dataframe tbody tr th:only-of-type {\n",
       "        vertical-align: middle;\n",
       "    }\n",
       "\n",
       "    .dataframe tbody tr th {\n",
       "        vertical-align: top;\n",
       "    }\n",
       "\n",
       "    .dataframe thead th {\n",
       "        text-align: right;\n",
       "    }\n",
       "</style>\n",
       "<table border=\"1\" class=\"dataframe\">\n",
       "  <thead>\n",
       "    <tr style=\"text-align: right;\">\n",
       "      <th></th>\n",
       "      <th>Category</th>\n",
       "      <th>Message</th>\n",
       "    </tr>\n",
       "  </thead>\n",
       "  <tbody>\n",
       "    <tr>\n",
       "      <th>0</th>\n",
       "      <td>ham</td>\n",
       "      <td>Go until jurong point, crazy.. Available only ...</td>\n",
       "    </tr>\n",
       "    <tr>\n",
       "      <th>1</th>\n",
       "      <td>ham</td>\n",
       "      <td>Ok lar... Joking wif u oni...</td>\n",
       "    </tr>\n",
       "    <tr>\n",
       "      <th>2</th>\n",
       "      <td>spam</td>\n",
       "      <td>Free entry in 2 a wkly comp to win FA Cup fina...</td>\n",
       "    </tr>\n",
       "    <tr>\n",
       "      <th>3</th>\n",
       "      <td>ham</td>\n",
       "      <td>U dun say so early hor... U c already then say...</td>\n",
       "    </tr>\n",
       "    <tr>\n",
       "      <th>4</th>\n",
       "      <td>ham</td>\n",
       "      <td>Nah I don't think he goes to usf, he lives aro...</td>\n",
       "    </tr>\n",
       "    <tr>\n",
       "      <th>...</th>\n",
       "      <td>...</td>\n",
       "      <td>...</td>\n",
       "    </tr>\n",
       "    <tr>\n",
       "      <th>5567</th>\n",
       "      <td>spam</td>\n",
       "      <td>This is the 2nd time we have tried 2 contact u...</td>\n",
       "    </tr>\n",
       "    <tr>\n",
       "      <th>5568</th>\n",
       "      <td>ham</td>\n",
       "      <td>Will �_ b going to esplanade fr home?</td>\n",
       "    </tr>\n",
       "    <tr>\n",
       "      <th>5569</th>\n",
       "      <td>ham</td>\n",
       "      <td>Pity, * was in mood for that. So...any other s...</td>\n",
       "    </tr>\n",
       "    <tr>\n",
       "      <th>5570</th>\n",
       "      <td>ham</td>\n",
       "      <td>The guy did some bitching but I acted like i'd...</td>\n",
       "    </tr>\n",
       "    <tr>\n",
       "      <th>5571</th>\n",
       "      <td>ham</td>\n",
       "      <td>Rofl. Its true to its name</td>\n",
       "    </tr>\n",
       "  </tbody>\n",
       "</table>\n",
       "<p>5572 rows × 2 columns</p>\n",
       "</div>"
      ],
      "text/plain": [
       "     Category                                            Message\n",
       "0         ham  Go until jurong point, crazy.. Available only ...\n",
       "1         ham                      Ok lar... Joking wif u oni...\n",
       "2        spam  Free entry in 2 a wkly comp to win FA Cup fina...\n",
       "3         ham  U dun say so early hor... U c already then say...\n",
       "4         ham  Nah I don't think he goes to usf, he lives aro...\n",
       "...       ...                                                ...\n",
       "5567     spam  This is the 2nd time we have tried 2 contact u...\n",
       "5568      ham              Will �_ b going to esplanade fr home?\n",
       "5569      ham  Pity, * was in mood for that. So...any other s...\n",
       "5570      ham  The guy did some bitching but I acted like i'd...\n",
       "5571      ham                         Rofl. Its true to its name\n",
       "\n",
       "[5572 rows x 2 columns]"
      ]
     },
     "execution_count": 14,
     "metadata": {},
     "output_type": "execute_result"
    }
   ],
   "source": [
    "df"
   ]
  },
  {
   "cell_type": "code",
   "execution_count": 15,
   "id": "184d27cd",
   "metadata": {},
   "outputs": [
    {
     "data": {
      "text/plain": [
       "ham     4825\n",
       "spam     747\n",
       "Name: Category, dtype: int64"
      ]
     },
     "execution_count": 15,
     "metadata": {},
     "output_type": "execute_result"
    }
   ],
   "source": [
    "df[\"Category\"].value_counts()"
   ]
  },
  {
   "cell_type": "code",
   "execution_count": 16,
   "id": "ad506079",
   "metadata": {},
   "outputs": [
    {
     "data": {
      "text/plain": [
       "Category    0\n",
       "Message     0\n",
       "dtype: int64"
      ]
     },
     "execution_count": 16,
     "metadata": {},
     "output_type": "execute_result"
    }
   ],
   "source": [
    "df.isna().sum()"
   ]
  },
  {
   "cell_type": "code",
   "execution_count": 17,
   "id": "18239eeb",
   "metadata": {},
   "outputs": [],
   "source": [
    "from sklearn.preprocessing import LabelEncoder"
   ]
  },
  {
   "cell_type": "code",
   "execution_count": 18,
   "id": "6e396ea4",
   "metadata": {},
   "outputs": [],
   "source": [
    "label=LabelEncoder()"
   ]
  },
  {
   "cell_type": "code",
   "execution_count": 19,
   "id": "3ab21b65",
   "metadata": {},
   "outputs": [
    {
     "data": {
      "text/plain": [
       "LabelEncoder()"
      ]
     },
     "execution_count": 19,
     "metadata": {},
     "output_type": "execute_result"
    }
   ],
   "source": [
    "label.fit(df[\"Category\"])"
   ]
  },
  {
   "cell_type": "code",
   "execution_count": 20,
   "id": "ebcc98da",
   "metadata": {},
   "outputs": [],
   "source": [
    "ary = label.transform(df[\"Category\"])"
   ]
  },
  {
   "cell_type": "code",
   "execution_count": 21,
   "id": "5f3aa8d5",
   "metadata": {},
   "outputs": [],
   "source": [
    "df[\"Categories\"] = ary"
   ]
  },
  {
   "cell_type": "code",
   "execution_count": 22,
   "id": "6a47b5e0",
   "metadata": {},
   "outputs": [
    {
     "data": {
      "text/html": [
       "<div>\n",
       "<style scoped>\n",
       "    .dataframe tbody tr th:only-of-type {\n",
       "        vertical-align: middle;\n",
       "    }\n",
       "\n",
       "    .dataframe tbody tr th {\n",
       "        vertical-align: top;\n",
       "    }\n",
       "\n",
       "    .dataframe thead th {\n",
       "        text-align: right;\n",
       "    }\n",
       "</style>\n",
       "<table border=\"1\" class=\"dataframe\">\n",
       "  <thead>\n",
       "    <tr style=\"text-align: right;\">\n",
       "      <th></th>\n",
       "      <th>Category</th>\n",
       "      <th>Message</th>\n",
       "      <th>Categories</th>\n",
       "    </tr>\n",
       "  </thead>\n",
       "  <tbody>\n",
       "    <tr>\n",
       "      <th>0</th>\n",
       "      <td>ham</td>\n",
       "      <td>Go until jurong point, crazy.. Available only ...</td>\n",
       "      <td>0</td>\n",
       "    </tr>\n",
       "    <tr>\n",
       "      <th>1</th>\n",
       "      <td>ham</td>\n",
       "      <td>Ok lar... Joking wif u oni...</td>\n",
       "      <td>0</td>\n",
       "    </tr>\n",
       "    <tr>\n",
       "      <th>2</th>\n",
       "      <td>spam</td>\n",
       "      <td>Free entry in 2 a wkly comp to win FA Cup fina...</td>\n",
       "      <td>1</td>\n",
       "    </tr>\n",
       "    <tr>\n",
       "      <th>3</th>\n",
       "      <td>ham</td>\n",
       "      <td>U dun say so early hor... U c already then say...</td>\n",
       "      <td>0</td>\n",
       "    </tr>\n",
       "    <tr>\n",
       "      <th>4</th>\n",
       "      <td>ham</td>\n",
       "      <td>Nah I don't think he goes to usf, he lives aro...</td>\n",
       "      <td>0</td>\n",
       "    </tr>\n",
       "    <tr>\n",
       "      <th>...</th>\n",
       "      <td>...</td>\n",
       "      <td>...</td>\n",
       "      <td>...</td>\n",
       "    </tr>\n",
       "    <tr>\n",
       "      <th>5567</th>\n",
       "      <td>spam</td>\n",
       "      <td>This is the 2nd time we have tried 2 contact u...</td>\n",
       "      <td>1</td>\n",
       "    </tr>\n",
       "    <tr>\n",
       "      <th>5568</th>\n",
       "      <td>ham</td>\n",
       "      <td>Will �_ b going to esplanade fr home?</td>\n",
       "      <td>0</td>\n",
       "    </tr>\n",
       "    <tr>\n",
       "      <th>5569</th>\n",
       "      <td>ham</td>\n",
       "      <td>Pity, * was in mood for that. So...any other s...</td>\n",
       "      <td>0</td>\n",
       "    </tr>\n",
       "    <tr>\n",
       "      <th>5570</th>\n",
       "      <td>ham</td>\n",
       "      <td>The guy did some bitching but I acted like i'd...</td>\n",
       "      <td>0</td>\n",
       "    </tr>\n",
       "    <tr>\n",
       "      <th>5571</th>\n",
       "      <td>ham</td>\n",
       "      <td>Rofl. Its true to its name</td>\n",
       "      <td>0</td>\n",
       "    </tr>\n",
       "  </tbody>\n",
       "</table>\n",
       "<p>5572 rows × 3 columns</p>\n",
       "</div>"
      ],
      "text/plain": [
       "     Category                                            Message  Categories\n",
       "0         ham  Go until jurong point, crazy.. Available only ...           0\n",
       "1         ham                      Ok lar... Joking wif u oni...           0\n",
       "2        spam  Free entry in 2 a wkly comp to win FA Cup fina...           1\n",
       "3         ham  U dun say so early hor... U c already then say...           0\n",
       "4         ham  Nah I don't think he goes to usf, he lives aro...           0\n",
       "...       ...                                                ...         ...\n",
       "5567     spam  This is the 2nd time we have tried 2 contact u...           1\n",
       "5568      ham              Will �_ b going to esplanade fr home?           0\n",
       "5569      ham  Pity, * was in mood for that. So...any other s...           0\n",
       "5570      ham  The guy did some bitching but I acted like i'd...           0\n",
       "5571      ham                         Rofl. Its true to its name           0\n",
       "\n",
       "[5572 rows x 3 columns]"
      ]
     },
     "execution_count": 22,
     "metadata": {},
     "output_type": "execute_result"
    }
   ],
   "source": [
    "df"
   ]
  },
  {
   "cell_type": "code",
   "execution_count": 23,
   "id": "14700609",
   "metadata": {},
   "outputs": [],
   "source": [
    "df.drop(\"Category\",axis=1,inplace=True)"
   ]
  },
  {
   "cell_type": "code",
   "execution_count": 24,
   "id": "23360c10",
   "metadata": {},
   "outputs": [
    {
     "data": {
      "text/html": [
       "<div>\n",
       "<style scoped>\n",
       "    .dataframe tbody tr th:only-of-type {\n",
       "        vertical-align: middle;\n",
       "    }\n",
       "\n",
       "    .dataframe tbody tr th {\n",
       "        vertical-align: top;\n",
       "    }\n",
       "\n",
       "    .dataframe thead th {\n",
       "        text-align: right;\n",
       "    }\n",
       "</style>\n",
       "<table border=\"1\" class=\"dataframe\">\n",
       "  <thead>\n",
       "    <tr style=\"text-align: right;\">\n",
       "      <th></th>\n",
       "      <th>Message</th>\n",
       "      <th>Categories</th>\n",
       "    </tr>\n",
       "  </thead>\n",
       "  <tbody>\n",
       "    <tr>\n",
       "      <th>0</th>\n",
       "      <td>Go until jurong point, crazy.. Available only ...</td>\n",
       "      <td>0</td>\n",
       "    </tr>\n",
       "    <tr>\n",
       "      <th>1</th>\n",
       "      <td>Ok lar... Joking wif u oni...</td>\n",
       "      <td>0</td>\n",
       "    </tr>\n",
       "    <tr>\n",
       "      <th>2</th>\n",
       "      <td>Free entry in 2 a wkly comp to win FA Cup fina...</td>\n",
       "      <td>1</td>\n",
       "    </tr>\n",
       "    <tr>\n",
       "      <th>3</th>\n",
       "      <td>U dun say so early hor... U c already then say...</td>\n",
       "      <td>0</td>\n",
       "    </tr>\n",
       "    <tr>\n",
       "      <th>4</th>\n",
       "      <td>Nah I don't think he goes to usf, he lives aro...</td>\n",
       "      <td>0</td>\n",
       "    </tr>\n",
       "    <tr>\n",
       "      <th>...</th>\n",
       "      <td>...</td>\n",
       "      <td>...</td>\n",
       "    </tr>\n",
       "    <tr>\n",
       "      <th>5567</th>\n",
       "      <td>This is the 2nd time we have tried 2 contact u...</td>\n",
       "      <td>1</td>\n",
       "    </tr>\n",
       "    <tr>\n",
       "      <th>5568</th>\n",
       "      <td>Will �_ b going to esplanade fr home?</td>\n",
       "      <td>0</td>\n",
       "    </tr>\n",
       "    <tr>\n",
       "      <th>5569</th>\n",
       "      <td>Pity, * was in mood for that. So...any other s...</td>\n",
       "      <td>0</td>\n",
       "    </tr>\n",
       "    <tr>\n",
       "      <th>5570</th>\n",
       "      <td>The guy did some bitching but I acted like i'd...</td>\n",
       "      <td>0</td>\n",
       "    </tr>\n",
       "    <tr>\n",
       "      <th>5571</th>\n",
       "      <td>Rofl. Its true to its name</td>\n",
       "      <td>0</td>\n",
       "    </tr>\n",
       "  </tbody>\n",
       "</table>\n",
       "<p>5572 rows × 2 columns</p>\n",
       "</div>"
      ],
      "text/plain": [
       "                                                Message  Categories\n",
       "0     Go until jurong point, crazy.. Available only ...           0\n",
       "1                         Ok lar... Joking wif u oni...           0\n",
       "2     Free entry in 2 a wkly comp to win FA Cup fina...           1\n",
       "3     U dun say so early hor... U c already then say...           0\n",
       "4     Nah I don't think he goes to usf, he lives aro...           0\n",
       "...                                                 ...         ...\n",
       "5567  This is the 2nd time we have tried 2 contact u...           1\n",
       "5568              Will �_ b going to esplanade fr home?           0\n",
       "5569  Pity, * was in mood for that. So...any other s...           0\n",
       "5570  The guy did some bitching but I acted like i'd...           0\n",
       "5571                         Rofl. Its true to its name           0\n",
       "\n",
       "[5572 rows x 2 columns]"
      ]
     },
     "execution_count": 24,
     "metadata": {},
     "output_type": "execute_result"
    }
   ],
   "source": [
    "df"
   ]
  },
  {
   "cell_type": "code",
   "execution_count": 24,
   "id": "8198f65a",
   "metadata": {},
   "outputs": [],
   "source": [
    "X = df[[\"Message\"]]"
   ]
  },
  {
   "cell_type": "code",
   "execution_count": 25,
   "id": "6b0c09db",
   "metadata": {},
   "outputs": [
    {
     "data": {
      "text/html": [
       "<div>\n",
       "<style scoped>\n",
       "    .dataframe tbody tr th:only-of-type {\n",
       "        vertical-align: middle;\n",
       "    }\n",
       "\n",
       "    .dataframe tbody tr th {\n",
       "        vertical-align: top;\n",
       "    }\n",
       "\n",
       "    .dataframe thead th {\n",
       "        text-align: right;\n",
       "    }\n",
       "</style>\n",
       "<table border=\"1\" class=\"dataframe\">\n",
       "  <thead>\n",
       "    <tr style=\"text-align: right;\">\n",
       "      <th></th>\n",
       "      <th>Message</th>\n",
       "    </tr>\n",
       "  </thead>\n",
       "  <tbody>\n",
       "    <tr>\n",
       "      <th>0</th>\n",
       "      <td>Go until jurong point, crazy.. Available only ...</td>\n",
       "    </tr>\n",
       "    <tr>\n",
       "      <th>1</th>\n",
       "      <td>Ok lar... Joking wif u oni...</td>\n",
       "    </tr>\n",
       "    <tr>\n",
       "      <th>2</th>\n",
       "      <td>Free entry in 2 a wkly comp to win FA Cup fina...</td>\n",
       "    </tr>\n",
       "    <tr>\n",
       "      <th>3</th>\n",
       "      <td>U dun say so early hor... U c already then say...</td>\n",
       "    </tr>\n",
       "    <tr>\n",
       "      <th>4</th>\n",
       "      <td>Nah I don't think he goes to usf, he lives aro...</td>\n",
       "    </tr>\n",
       "    <tr>\n",
       "      <th>...</th>\n",
       "      <td>...</td>\n",
       "    </tr>\n",
       "    <tr>\n",
       "      <th>5567</th>\n",
       "      <td>This is the 2nd time we have tried 2 contact u...</td>\n",
       "    </tr>\n",
       "    <tr>\n",
       "      <th>5568</th>\n",
       "      <td>Will �_ b going to esplanade fr home?</td>\n",
       "    </tr>\n",
       "    <tr>\n",
       "      <th>5569</th>\n",
       "      <td>Pity, * was in mood for that. So...any other s...</td>\n",
       "    </tr>\n",
       "    <tr>\n",
       "      <th>5570</th>\n",
       "      <td>The guy did some bitching but I acted like i'd...</td>\n",
       "    </tr>\n",
       "    <tr>\n",
       "      <th>5571</th>\n",
       "      <td>Rofl. Its true to its name</td>\n",
       "    </tr>\n",
       "  </tbody>\n",
       "</table>\n",
       "<p>5572 rows × 1 columns</p>\n",
       "</div>"
      ],
      "text/plain": [
       "                                                Message\n",
       "0     Go until jurong point, crazy.. Available only ...\n",
       "1                         Ok lar... Joking wif u oni...\n",
       "2     Free entry in 2 a wkly comp to win FA Cup fina...\n",
       "3     U dun say so early hor... U c already then say...\n",
       "4     Nah I don't think he goes to usf, he lives aro...\n",
       "...                                                 ...\n",
       "5567  This is the 2nd time we have tried 2 contact u...\n",
       "5568              Will �_ b going to esplanade fr home?\n",
       "5569  Pity, * was in mood for that. So...any other s...\n",
       "5570  The guy did some bitching but I acted like i'd...\n",
       "5571                         Rofl. Its true to its name\n",
       "\n",
       "[5572 rows x 1 columns]"
      ]
     },
     "execution_count": 25,
     "metadata": {},
     "output_type": "execute_result"
    }
   ],
   "source": [
    "X"
   ]
  },
  {
   "cell_type": "code",
   "execution_count": 26,
   "id": "3296e815",
   "metadata": {},
   "outputs": [],
   "source": [
    "y = df[\"Categories\"]"
   ]
  },
  {
   "cell_type": "code",
   "execution_count": 27,
   "id": "739d6a4c",
   "metadata": {},
   "outputs": [
    {
     "data": {
      "text/plain": [
       "0       0\n",
       "1       0\n",
       "2       1\n",
       "3       0\n",
       "4       0\n",
       "       ..\n",
       "5567    1\n",
       "5568    0\n",
       "5569    0\n",
       "5570    0\n",
       "5571    0\n",
       "Name: Categories, Length: 5572, dtype: int32"
      ]
     },
     "execution_count": 27,
     "metadata": {},
     "output_type": "execute_result"
    }
   ],
   "source": [
    "y"
   ]
  },
  {
   "cell_type": "code",
   "execution_count": 28,
   "id": "b4ab2406",
   "metadata": {},
   "outputs": [
    {
     "data": {
      "text/plain": [
       "0    4825\n",
       "1     747\n",
       "Name: Categories, dtype: int64"
      ]
     },
     "execution_count": 28,
     "metadata": {},
     "output_type": "execute_result"
    }
   ],
   "source": [
    "y.value_counts()"
   ]
  },
  {
   "cell_type": "code",
   "execution_count": 29,
   "id": "a15cf08b",
   "metadata": {},
   "outputs": [],
   "source": [
    "from imblearn.over_sampling import RandomOverSampler"
   ]
  },
  {
   "cell_type": "code",
   "execution_count": 30,
   "id": "9a66af8a",
   "metadata": {},
   "outputs": [],
   "source": [
    "ros = RandomOverSampler()"
   ]
  },
  {
   "cell_type": "code",
   "execution_count": 31,
   "id": "a3b7f895",
   "metadata": {},
   "outputs": [],
   "source": [
    "X_ros,y_ros = ros.fit_resample(X,y)"
   ]
  },
  {
   "cell_type": "code",
   "execution_count": 32,
   "id": "1de3361b",
   "metadata": {},
   "outputs": [
    {
     "data": {
      "text/plain": [
       "(9650, 1)"
      ]
     },
     "execution_count": 32,
     "metadata": {},
     "output_type": "execute_result"
    }
   ],
   "source": [
    "X_ros.shape"
   ]
  },
  {
   "cell_type": "code",
   "execution_count": 33,
   "id": "3b288fa9",
   "metadata": {},
   "outputs": [
    {
     "data": {
      "text/plain": [
       "(9650,)"
      ]
     },
     "execution_count": 33,
     "metadata": {},
     "output_type": "execute_result"
    }
   ],
   "source": [
    "y_ros.shape"
   ]
  },
  {
   "cell_type": "code",
   "execution_count": 34,
   "id": "161d1044",
   "metadata": {},
   "outputs": [
    {
     "data": {
      "text/plain": [
       "0    4825\n",
       "1    4825\n",
       "Name: Categories, dtype: int64"
      ]
     },
     "execution_count": 34,
     "metadata": {},
     "output_type": "execute_result"
    }
   ],
   "source": [
    "y_ros.value_counts()"
   ]
  },
  {
   "cell_type": "code",
   "execution_count": 35,
   "id": "9f4a33d6",
   "metadata": {},
   "outputs": [],
   "source": [
    "from sklearn.model_selection import train_test_split"
   ]
  },
  {
   "cell_type": "code",
   "execution_count": 36,
   "id": "3bd365ec",
   "metadata": {},
   "outputs": [],
   "source": [
    "X_train,X_test,y_train,y_test = train_test_split(X_ros,y_ros,test_size=0.20,random_state=2)"
   ]
  },
  {
   "cell_type": "code",
   "execution_count": 37,
   "id": "ad53f535",
   "metadata": {},
   "outputs": [
    {
     "data": {
      "text/plain": [
       "((7720, 1), (1930, 1), (9650, 1))"
      ]
     },
     "execution_count": 37,
     "metadata": {},
     "output_type": "execute_result"
    }
   ],
   "source": [
    "X_train.shape,X_test.shape,X_ros.shape"
   ]
  },
  {
   "cell_type": "code",
   "execution_count": 38,
   "id": "c0c7b760",
   "metadata": {},
   "outputs": [
    {
     "data": {
      "text/plain": [
       "((7720,), (1930,), (9650,))"
      ]
     },
     "execution_count": 38,
     "metadata": {},
     "output_type": "execute_result"
    }
   ],
   "source": [
    "y_train.shape,y_test.shape,y_ros.shape"
   ]
  },
  {
   "cell_type": "code",
   "execution_count": 39,
   "id": "3f6c9618",
   "metadata": {},
   "outputs": [
    {
     "data": {
      "text/html": [
       "<div>\n",
       "<style scoped>\n",
       "    .dataframe tbody tr th:only-of-type {\n",
       "        vertical-align: middle;\n",
       "    }\n",
       "\n",
       "    .dataframe tbody tr th {\n",
       "        vertical-align: top;\n",
       "    }\n",
       "\n",
       "    .dataframe thead th {\n",
       "        text-align: right;\n",
       "    }\n",
       "</style>\n",
       "<table border=\"1\" class=\"dataframe\">\n",
       "  <thead>\n",
       "    <tr style=\"text-align: right;\">\n",
       "      <th></th>\n",
       "      <th>Message</th>\n",
       "    </tr>\n",
       "  </thead>\n",
       "  <tbody>\n",
       "    <tr>\n",
       "      <th>0</th>\n",
       "      <td>Go until jurong point, crazy.. Available only ...</td>\n",
       "    </tr>\n",
       "    <tr>\n",
       "      <th>1</th>\n",
       "      <td>Ok lar... Joking wif u oni...</td>\n",
       "    </tr>\n",
       "    <tr>\n",
       "      <th>2</th>\n",
       "      <td>Free entry in 2 a wkly comp to win FA Cup fina...</td>\n",
       "    </tr>\n",
       "    <tr>\n",
       "      <th>3</th>\n",
       "      <td>U dun say so early hor... U c already then say...</td>\n",
       "    </tr>\n",
       "    <tr>\n",
       "      <th>4</th>\n",
       "      <td>Nah I don't think he goes to usf, he lives aro...</td>\n",
       "    </tr>\n",
       "    <tr>\n",
       "      <th>...</th>\n",
       "      <td>...</td>\n",
       "    </tr>\n",
       "    <tr>\n",
       "      <th>9645</th>\n",
       "      <td>Thanks for your ringtone order, ref number R83...</td>\n",
       "    </tr>\n",
       "    <tr>\n",
       "      <th>9646</th>\n",
       "      <td>Ur TONEXS subscription has been renewed and yo...</td>\n",
       "    </tr>\n",
       "    <tr>\n",
       "      <th>9647</th>\n",
       "      <td>U are subscribed to the best Mobile Content Se...</td>\n",
       "    </tr>\n",
       "    <tr>\n",
       "      <th>9648</th>\n",
       "      <td>You are a �1000 winner or Guaranteed Caller Pr...</td>\n",
       "    </tr>\n",
       "    <tr>\n",
       "      <th>9649</th>\n",
       "      <td>Wan2 win a Meet+Greet with Westlife 4 U or a m...</td>\n",
       "    </tr>\n",
       "  </tbody>\n",
       "</table>\n",
       "<p>9650 rows × 1 columns</p>\n",
       "</div>"
      ],
      "text/plain": [
       "                                                Message\n",
       "0     Go until jurong point, crazy.. Available only ...\n",
       "1                         Ok lar... Joking wif u oni...\n",
       "2     Free entry in 2 a wkly comp to win FA Cup fina...\n",
       "3     U dun say so early hor... U c already then say...\n",
       "4     Nah I don't think he goes to usf, he lives aro...\n",
       "...                                                 ...\n",
       "9645  Thanks for your ringtone order, ref number R83...\n",
       "9646  Ur TONEXS subscription has been renewed and yo...\n",
       "9647  U are subscribed to the best Mobile Content Se...\n",
       "9648  You are a �1000 winner or Guaranteed Caller Pr...\n",
       "9649  Wan2 win a Meet+Greet with Westlife 4 U or a m...\n",
       "\n",
       "[9650 rows x 1 columns]"
      ]
     },
     "execution_count": 39,
     "metadata": {},
     "output_type": "execute_result"
    }
   ],
   "source": [
    "X_ros"
   ]
  },
  {
   "cell_type": "code",
   "execution_count": 40,
   "id": "418672d8",
   "metadata": {},
   "outputs": [
    {
     "data": {
      "text/plain": [
       "9598    Fantasy Football is back on your TV. Go to Sky...\n",
       "6115    Someone U know has asked our dating service 2 ...\n",
       "1482                                                Ok...\n",
       "6732    Auction round 4. The highest bid is now �54. N...\n",
       "7878    Fantasy Football is back on your TV. Go to Sky...\n",
       "                              ...                        \n",
       "1099    Been up to ne thing interesting. Did you have ...\n",
       "2514        Ok ill send you with in  &lt;DECIMAL&gt;  ok.\n",
       "6637    Hi if ur lookin 4 saucy daytime fun wiv busty ...\n",
       "2575                 Now thats going to ruin your thesis!\n",
       "7336    URGENT, IMPORTANT INFORMATION FOR O2 USER. TOD...\n",
       "Name: Message, Length: 7720, dtype: object"
      ]
     },
     "execution_count": 40,
     "metadata": {},
     "output_type": "execute_result"
    }
   ],
   "source": [
    "X_train[\"Message\"]"
   ]
  },
  {
   "cell_type": "code",
   "execution_count": 41,
   "id": "8391f494",
   "metadata": {},
   "outputs": [
    {
     "data": {
      "text/plain": [
       "array(['Fantasy Football is back on your TV. Go to Sky Gamestar on Sky Active and play �250k Dream Team. Scoring starts on Saturday, so register now!SKY OPT OUT to 88088',\n",
       "       'Someone U know has asked our dating service 2 contact you! Cant Guess who? CALL 09058097189 NOW all will be revealed. POBox 6, LS15HB 150p ',\n",
       "       'Ok...', ...,\n",
       "       'Hi if ur lookin 4 saucy daytime fun wiv busty married woman Am free all next week Chat now 2 sort time 09099726429 JANINExx Calls�1/minMobsmoreLKPOBOX177HP51FL',\n",
       "       'Now thats going to ruin your thesis!',\n",
       "       'URGENT, IMPORTANT INFORMATION FOR O2 USER. TODAY IS YOUR LUCKY DAY! 2 FIND OUT WHY LOG ONTO HTTP://WWW.URAWINNER.COM THERE IS A FANTASTIC SURPRISE AWAITING FOR YOU'],\n",
       "      dtype=object)"
      ]
     },
     "execution_count": 41,
     "metadata": {},
     "output_type": "execute_result"
    }
   ],
   "source": [
    "X_train[\"Message\"].values"
   ]
  },
  {
   "cell_type": "code",
   "execution_count": 42,
   "id": "1354f5ad",
   "metadata": {},
   "outputs": [
    {
     "data": {
      "text/plain": [
       "array([['Fantasy Football is back on your TV. Go to Sky Gamestar on Sky Active and play �250k Dream Team. Scoring starts on Saturday, so register now!SKY OPT OUT to 88088'],\n",
       "       ['Someone U know has asked our dating service 2 contact you! Cant Guess who? CALL 09058097189 NOW all will be revealed. POBox 6, LS15HB 150p '],\n",
       "       ['Ok...'],\n",
       "       ...,\n",
       "       ['Hi if ur lookin 4 saucy daytime fun wiv busty married woman Am free all next week Chat now 2 sort time 09099726429 JANINExx Calls�1/minMobsmoreLKPOBOX177HP51FL'],\n",
       "       ['Now thats going to ruin your thesis!'],\n",
       "       ['URGENT, IMPORTANT INFORMATION FOR O2 USER. TODAY IS YOUR LUCKY DAY! 2 FIND OUT WHY LOG ONTO HTTP://WWW.URAWINNER.COM THERE IS A FANTASTIC SURPRISE AWAITING FOR YOU']],\n",
       "      dtype=object)"
      ]
     },
     "execution_count": 42,
     "metadata": {},
     "output_type": "execute_result"
    }
   ],
   "source": [
    "X_train.values"
   ]
  },
  {
   "cell_type": "code",
   "execution_count": 43,
   "id": "9d3e2f0f",
   "metadata": {},
   "outputs": [
    {
     "data": {
      "text/plain": [
       "array(['Fantasy Football is back on your TV. Go to Sky Gamestar on Sky Active and play �250k Dream Team. Scoring starts on Saturday, so register now!SKY OPT OUT to 88088',\n",
       "       'Someone U know has asked our dating service 2 contact you! Cant Guess who? CALL 09058097189 NOW all will be revealed. POBox 6, LS15HB 150p ',\n",
       "       'Ok...', ...,\n",
       "       'Hi if ur lookin 4 saucy daytime fun wiv busty married woman Am free all next week Chat now 2 sort time 09099726429 JANINExx Calls�1/minMobsmoreLKPOBOX177HP51FL',\n",
       "       'Now thats going to ruin your thesis!',\n",
       "       'URGENT, IMPORTANT INFORMATION FOR O2 USER. TODAY IS YOUR LUCKY DAY! 2 FIND OUT WHY LOG ONTO HTTP://WWW.URAWINNER.COM THERE IS A FANTASTIC SURPRISE AWAITING FOR YOU'],\n",
       "      dtype=object)"
      ]
     },
     "execution_count": 43,
     "metadata": {},
     "output_type": "execute_result"
    }
   ],
   "source": [
    "X_train[\"Message\"].values"
   ]
  },
  {
   "cell_type": "code",
   "execution_count": 44,
   "id": "5d640afa",
   "metadata": {},
   "outputs": [],
   "source": [
    "from sklearn.feature_extraction.text import CountVectorizer"
   ]
  },
  {
   "cell_type": "code",
   "execution_count": 45,
   "id": "ab7d64cc",
   "metadata": {},
   "outputs": [],
   "source": [
    "cvec=CountVectorizer()"
   ]
  },
  {
   "cell_type": "code",
   "execution_count": 47,
   "id": "dede896e",
   "metadata": {},
   "outputs": [
    {
     "data": {
      "text/plain": [
       "CountVectorizer()"
      ]
     },
     "execution_count": 47,
     "metadata": {},
     "output_type": "execute_result"
    }
   ],
   "source": [
    "cvec.fit(X_train[\"Message\"].values)"
   ]
  },
  {
   "cell_type": "code",
   "execution_count": 48,
   "id": "6a949d84",
   "metadata": {},
   "outputs": [],
   "source": [
    "cvec_Xtrain = cvec.transform(X_train[\"Message\"].values)"
   ]
  },
  {
   "cell_type": "code",
   "execution_count": 49,
   "id": "01398db1",
   "metadata": {},
   "outputs": [],
   "source": [
    "cvec_Xtest = cvec.transform(X_test[\"Message\"].values)"
   ]
  },
  {
   "cell_type": "code",
   "execution_count": 50,
   "id": "ca8462e5",
   "metadata": {},
   "outputs": [
    {
     "data": {
      "text/plain": [
       "<7720x7940 sparse matrix of type '<class 'numpy.int64'>'\n",
       "\twith 130142 stored elements in Compressed Sparse Row format>"
      ]
     },
     "execution_count": 50,
     "metadata": {},
     "output_type": "execute_result"
    }
   ],
   "source": [
    "cvec_Xtrain"
   ]
  },
  {
   "cell_type": "code",
   "execution_count": 51,
   "id": "5c651456",
   "metadata": {},
   "outputs": [
    {
     "data": {
      "text/plain": [
       "<1930x7940 sparse matrix of type '<class 'numpy.int64'>'\n",
       "\twith 31845 stored elements in Compressed Sparse Row format>"
      ]
     },
     "execution_count": 51,
     "metadata": {},
     "output_type": "execute_result"
    }
   ],
   "source": [
    "cvec_Xtest"
   ]
  },
  {
   "cell_type": "code",
   "execution_count": 52,
   "id": "f881c8bb",
   "metadata": {},
   "outputs": [
    {
     "data": {
      "text/plain": [
       "array([[0, 0, 0, ..., 0, 0, 0],\n",
       "       [0, 0, 0, ..., 0, 0, 0],\n",
       "       [0, 0, 0, ..., 0, 0, 0],\n",
       "       ...,\n",
       "       [0, 0, 0, ..., 0, 0, 0],\n",
       "       [0, 0, 0, ..., 0, 0, 0],\n",
       "       [0, 0, 0, ..., 0, 0, 0]], dtype=int64)"
      ]
     },
     "execution_count": 52,
     "metadata": {},
     "output_type": "execute_result"
    }
   ],
   "source": [
    "cvec_Xtrain.toarray()"
   ]
  },
  {
   "cell_type": "code",
   "execution_count": 53,
   "id": "3ace9b5f",
   "metadata": {},
   "outputs": [
    {
     "data": {
      "text/plain": [
       "(7720, 7940)"
      ]
     },
     "execution_count": 53,
     "metadata": {},
     "output_type": "execute_result"
    }
   ],
   "source": [
    "cvec_Xtrain.toarray().shape"
   ]
  },
  {
   "cell_type": "code",
   "execution_count": 54,
   "id": "fc159ebf",
   "metadata": {},
   "outputs": [
    {
     "data": {
      "text/plain": [
       "(1930, 7940)"
      ]
     },
     "execution_count": 54,
     "metadata": {},
     "output_type": "execute_result"
    }
   ],
   "source": [
    "cvec_Xtest.toarray().shape"
   ]
  },
  {
   "cell_type": "code",
   "execution_count": 55,
   "id": "702a604e",
   "metadata": {},
   "outputs": [
    {
     "data": {
      "text/plain": [
       "{'fantasy': 2915,\n",
       " 'football': 3074,\n",
       " 'is': 3890,\n",
       " 'back': 1291,\n",
       " 'on': 5103,\n",
       " 'your': 7907,\n",
       " 'tv': 7265,\n",
       " 'go': 3291,\n",
       " 'to': 7113,\n",
       " 'sky': 6381,\n",
       " 'gamestar': 3202,\n",
       " 'active': 894,\n",
       " 'and': 1055,\n",
       " 'play': 5413,\n",
       " '250k': 421,\n",
       " 'dream': 2574,\n",
       " 'team': 6918,\n",
       " 'scoring': 6114,\n",
       " 'starts': 6626,\n",
       " 'saturday': 6088,\n",
       " 'so': 6453,\n",
       " 'register': 5846,\n",
       " 'now': 5008,\n",
       " 'opt': 5138,\n",
       " 'out': 5179,\n",
       " '88088': 785,\n",
       " 'someone': 6469,\n",
       " 'know': 4105,\n",
       " 'has': 3485,\n",
       " 'asked': 1192,\n",
       " 'our': 5176,\n",
       " 'dating': 2301,\n",
       " 'service': 6199,\n",
       " 'contact': 2097,\n",
       " 'you': 7903,\n",
       " 'cant': 1751,\n",
       " 'guess': 3410,\n",
       " 'who': 7686,\n",
       " 'call': 1714,\n",
       " '09058097189': 213,\n",
       " 'all': 1006,\n",
       " 'will': 7707,\n",
       " 'be': 1372,\n",
       " 'revealed': 5944,\n",
       " 'pobox': 5440,\n",
       " 'ls15hb': 4396,\n",
       " '150p': 349,\n",
       " 'ok': 5084,\n",
       " 'auction': 1232,\n",
       " 'round': 6001,\n",
       " 'the': 6994,\n",
       " 'highest': 3569,\n",
       " 'bid': 1444,\n",
       " '54': 621,\n",
       " 'next': 4930,\n",
       " 'maximum': 4550,\n",
       " '71': 685,\n",
       " 'send': 6178,\n",
       " 'bids': 1445,\n",
       " '10': 297,\n",
       " '83383': 749,\n",
       " 'good': 3317,\n",
       " 'luck': 4404,\n",
       " 'important': 3773,\n",
       " 'information': 3814,\n",
       " 'orange': 5148,\n",
       " 'user': 7402,\n",
       " '0796xxxxxx': 49,\n",
       " 'today': 7120,\n",
       " 'ur': 7382,\n",
       " 'lucky': 4406,\n",
       " 'day': 2304,\n",
       " 'find': 2996,\n",
       " 'why': 7692,\n",
       " 'log': 4330,\n",
       " 'onto': 5116,\n",
       " 'http': 3676,\n",
       " 'www': 7835,\n",
       " 'urawinner': 7383,\n",
       " 'com': 2018,\n",
       " 'there': 7009,\n",
       " 'fantastic': 2914,\n",
       " 'prizeawaiting': 5599,\n",
       " '0789xxxxxxx': 47,\n",
       " '2find': 441,\n",
       " 'surprise': 6813,\n",
       " 'awaiting': 1264,\n",
       " 'urgh': 7388,\n",
       " 'coach': 1988,\n",
       " 'hot': 3649,\n",
       " 'smells': 6421,\n",
       " 'of': 5059,\n",
       " 'chip': 1911,\n",
       " 'fat': 2924,\n",
       " 'thanks': 6983,\n",
       " 'again': 949,\n",
       " 'especially': 2783,\n",
       " 'for': 3078,\n",
       " 'duvet': 2628,\n",
       " 'not': 4994,\n",
       " 'predictive': 5548,\n",
       " 'text': 6965,\n",
       " 'word': 7781,\n",
       " 'as': 1180,\n",
       " 'valued': 7428,\n",
       " 'customer': 2249,\n",
       " 'am': 1029,\n",
       " 'pleased': 5423,\n",
       " 'advise': 927,\n",
       " 'that': 6990,\n",
       " 'following': 3064,\n",
       " 'recent': 5804,\n",
       " 'review': 5947,\n",
       " 'mob': 4702,\n",
       " 'no': 4959,\n",
       " 'are': 1142,\n",
       " 'awarded': 1267,\n",
       " 'with': 7736,\n",
       " '1500': 348,\n",
       " 'bonus': 1524,\n",
       " 'prize': 5598,\n",
       " '09066364589': 267,\n",
       " 'free': 3120,\n",
       " '1st': 384,\n",
       " 'week': 7627,\n",
       " 'no1': 4960,\n",
       " 'nokia': 4968,\n",
       " 'tone': 7140,\n",
       " 'mobile': 4704,\n",
       " 'every': 2806,\n",
       " 'just': 4018,\n",
       " 'txt': 7274,\n",
       " '8077': 727,\n",
       " 'get': 3246,\n",
       " 'txting': 7280,\n",
       " 'tell': 6933,\n",
       " 'mates': 4534,\n",
       " 'getzed': 3255,\n",
       " 'co': 1987,\n",
       " 'uk': 7301,\n",
       " '36504': 505,\n",
       " 'w45wq': 7530,\n",
       " '16': 361,\n",
       " 'norm150p': 4986,\n",
       " 'do': 2505,\n",
       " 'have': 3498,\n",
       " 'nice': 4934,\n",
       " 'love': 4377,\n",
       " 'dearly': 2320,\n",
       " 'entry': 2756,\n",
       " 'in': 3782,\n",
       " 'wkly': 7750,\n",
       " 'comp': 2036,\n",
       " 'win': 7709,\n",
       " 'fa': 2876,\n",
       " 'cup': 2236,\n",
       " 'final': 2991,\n",
       " 'tkts': 7101,\n",
       " '21st': 409,\n",
       " 'may': 4551,\n",
       " '2005': 400,\n",
       " '87121': 776,\n",
       " 'receive': 5800,\n",
       " 'question': 5700,\n",
       " 'std': 6638,\n",
       " 'rate': 5749,\n",
       " 'apply': 1120,\n",
       " '08452810075over18': 77,\n",
       " 'hello': 3535,\n",
       " 'my': 4831,\n",
       " 'boytoy': 1579,\n",
       " 'made': 4456,\n",
       " 'it': 3901,\n",
       " 'home': 3616,\n",
       " 'constant': 2095,\n",
       " 'thought': 7043,\n",
       " 'hope': 3632,\n",
       " 'having': 3502,\n",
       " 'visit': 7493,\n",
       " 'but': 1683,\n",
       " 'can': 1739,\n",
       " 'wait': 7543,\n",
       " 'till': 7078,\n",
       " 'come': 2024,\n",
       " 'me': 4560,\n",
       " 'kiss': 4091,\n",
       " 'been': 1392,\n",
       " 'specially': 6536,\n",
       " 'selected': 6165,\n",
       " '3000': 480,\n",
       " 'award': 1266,\n",
       " '08712402050': 117,\n",
       " 'before': 1397,\n",
       " 'lines': 4282,\n",
       " 'close': 1964,\n",
       " 'cost': 2139,\n",
       " '10ppm': 310,\n",
       " 'cs': 2212,\n",
       " 'ag': 948,\n",
       " 'promo': 5627,\n",
       " 'oh': 5079,\n",
       " 'fuck': 3160,\n",
       " 'juswoke': 4021,\n",
       " 'up': 7364,\n",
       " 'bed': 1387,\n",
       " 'boatin': 1513,\n",
       " 'docks': 2509,\n",
       " 'slept': 6394,\n",
       " 'wid': 7696,\n",
       " '25': 419,\n",
       " 'year': 7876,\n",
       " 'old': 5095,\n",
       " 'spinout': 6556,\n",
       " 'giv': 3274,\n",
       " 'da': 2266,\n",
       " 'gossip': 3334,\n",
       " 'l8r': 4130,\n",
       " 'xxx': 7852,\n",
       " 'aiyo': 981,\n",
       " 'poor': 5483,\n",
       " 'thing': 7021,\n",
       " 'then': 7005,\n",
       " 'dun': 2620,\n",
       " 'wan': 7562,\n",
       " 'eat': 2651,\n",
       " 'bathe': 1347,\n",
       " 'already': 1018,\n",
       " 'yes': 7886,\n",
       " 'he': 3506,\n",
       " 'crickiting': 2197,\n",
       " 'mind': 4642,\n",
       " 'had': 3435,\n",
       " 'mths': 4793,\n",
       " 'update': 7369,\n",
       " 'latest': 4181,\n",
       " 'camera': 1735,\n",
       " 'video': 7468,\n",
       " 'phones': 5361,\n",
       " 'keep': 4050,\n",
       " 'same': 6066,\n",
       " 'number': 5022,\n",
       " 'extra': 2869,\n",
       " 'mins': 4654,\n",
       " 'texts': 6976,\n",
       " 'annoncement': 1067,\n",
       " 'new': 4922,\n",
       " 'years': 7877,\n",
       " 'delivery': 2362,\n",
       " 'waiting': 7546,\n",
       " 'please': 5422,\n",
       " '07046744435': 24,\n",
       " 'arrange': 1166,\n",
       " 'half': 3446,\n",
       " 'price': 5582,\n",
       " 'line': 4278,\n",
       " 'rental': 5884,\n",
       " '12': 321,\n",
       " '500': 601,\n",
       " 'cross': 2201,\n",
       " 'ntwk': 5018,\n",
       " '100': 298,\n",
       " 'txts': 7282,\n",
       " 'mobileupd8': 4708,\n",
       " '08001950382': 59,\n",
       " 'or': 5144,\n",
       " 'call2optout': 1716,\n",
       " '674': 656,\n",
       " 'taking': 6875,\n",
       " 'italian': 3902,\n",
       " 'food': 3070,\n",
       " 'how': 3662,\n",
       " 'about': 849,\n",
       " 'pretty': 5576,\n",
       " 'dress': 2577,\n",
       " 'panties': 5236,\n",
       " 'give': 3275,\n",
       " 'one': 5107,\n",
       " 'miss': 4668,\n",
       " 'from': 3154,\n",
       " 'top': 7158,\n",
       " 'ringtone': 5967,\n",
       " 'sub': 6729,\n",
       " 'weekly': 7631,\n",
       " 'subpoly': 6734,\n",
       " '81618': 732,\n",
       " 'per': 5313,\n",
       " 'stop': 6669,\n",
       " 'sms': 6436,\n",
       " '08718727870': 167,\n",
       " 'when': 7670,\n",
       " 'chance': 1835,\n",
       " 'plz': 5435,\n",
       " 'lt': 4399,\n",
       " 'missed': 4670,\n",
       " 'alert': 993,\n",
       " 'these': 7011,\n",
       " 'numbers': 5023,\n",
       " 'called': 1721,\n",
       " 'left': 4221,\n",
       " 'message': 4612,\n",
       " '07008009200': 23,\n",
       " 'great': 3372,\n",
       " 'semester': 6175,\n",
       " 'wish': 7729,\n",
       " 'very': 7457,\n",
       " 'best': 1427,\n",
       " 'greatness': 3375,\n",
       " 'realize': 5780,\n",
       " '40': 533,\n",
       " 'we': 7604,\n",
       " 'll': 4315,\n",
       " 'thousands': 7045,\n",
       " 'ladies': 4143,\n",
       " 'running': 6029,\n",
       " 'around': 1163,\n",
       " 'tattoos': 6898,\n",
       " 'rofl': 5986,\n",
       " 'its': 3908,\n",
       " 'true': 7231,\n",
       " 'name': 4850,\n",
       " 'what': 7664,\n",
       " 'sunday': 6783,\n",
       " 'holiday': 3611,\n",
       " 'work': 7783,\n",
       " 'any': 1088,\n",
       " 'problem': 5605,\n",
       " 'frm': 3147,\n",
       " 'him': 3574,\n",
       " 'wats': 7595,\n",
       " 'matter': 4541,\n",
       " 'were': 7650,\n",
       " 'outbid': 5182,\n",
       " 'by': 1698,\n",
       " 'simonwatson5120': 6337,\n",
       " 'shinco': 6260,\n",
       " 'dvd': 2629,\n",
       " 'plyr': 5434,\n",
       " 'ac': 860,\n",
       " 'smsrewards': 6439,\n",
       " 'end': 2723,\n",
       " 'notifications': 5000,\n",
       " 'reply': 5897,\n",
       " 'todays': 7121,\n",
       " 'voda': 7501,\n",
       " 'ending': 2725,\n",
       " '1225': 324,\n",
       " '50award': 604,\n",
       " 'if': 3740,\n",
       " 'match': 4530,\n",
       " '08712300220': 111,\n",
       " 'quoting': 5714,\n",
       " 'claim': 1936,\n",
       " 'code': 1996,\n",
       " '3100': 492,\n",
       " 'standard': 6614,\n",
       " 'rates': 5750,\n",
       " 'app': 1112,\n",
       " 'her': 3551,\n",
       " 'sir': 6355,\n",
       " 'currently': 2242,\n",
       " 'collection': 2011,\n",
       " 'collect': 2008,\n",
       " '08718723815': 158,\n",
       " 'hey': 3560,\n",
       " 'babe': 1286,\n",
       " 'going': 3304,\n",
       " 'did': 2429,\n",
       " 'ever': 2805,\n",
       " 'figure': 2977,\n",
       " 'where': 7674,\n",
       " 'double': 2552,\n",
       " '1000': 299,\n",
       " 'tariffs': 6891,\n",
       " 'motorola': 4764,\n",
       " 'sonyericsson': 6487,\n",
       " 'bluetooth': 1507,\n",
       " '08000839402': 56,\n",
       " 'hf8': 3561,\n",
       " 'won': 7767,\n",
       " '7250i': 687,\n",
       " 'this': 7032,\n",
       " 'take': 6870,\n",
       " 'part': 5260,\n",
       " '86021': 767,\n",
       " 'hg': 3562,\n",
       " 'suite342': 6771,\n",
       " '2lands': 448,\n",
       " 'row': 6005,\n",
       " 'w1jhl': 7527,\n",
       " 'sorry': 6498,\n",
       " 'later': 4180,\n",
       " 'wana': 7564,\n",
       " 'plan': 5404,\n",
       " 'trip': 7221,\n",
       " 'sometme': 6476,\n",
       " 'valentines': 7423,\n",
       " 'special': 6532,\n",
       " 'over': 5193,\n",
       " 'quiz': 5710,\n",
       " 'partner': 5264,\n",
       " 'lifetime': 4256,\n",
       " '83600': 751,\n",
       " 'msg': 4783,\n",
       " 'rcvd': 5761,\n",
       " 'custcare': 2247,\n",
       " '08718720201': 157,\n",
       " '123': 325,\n",
       " 'congratulations': 2083,\n",
       " 'competition': 2043,\n",
       " 'draw': 2571,\n",
       " '1450': 342,\n",
       " '09050002311': 193,\n",
       " 'b4280703': 1279,\n",
       " '08718727868': 166,\n",
       " '18': 366,\n",
       " 'only': 5113,\n",
       " '150ppm': 353,\n",
       " 'tonexs': 7144,\n",
       " 'subscription': 6742,\n",
       " 'renewed': 5881,\n",
       " 'charged': 1848,\n",
       " '50': 600,\n",
       " 'choose': 1918,\n",
       " 'more': 4748,\n",
       " 'polys': 5476,\n",
       " 'month': 4741,\n",
       " 'clubzed': 1978,\n",
       " 'billing': 1452,\n",
       " 'haha': 3437,\n",
       " 'they': 7016,\n",
       " 'at': 1213,\n",
       " 'most': 4756,\n",
       " 'tmr': 7107,\n",
       " 'forfeit': 3085,\n",
       " 'chk': 1913,\n",
       " 'belovd': 1416,\n",
       " 'ms': 4782,\n",
       " 'dict': 2427,\n",
       " 'lost': 4364,\n",
       " 'pounds': 5516,\n",
       " 'since': 6343,\n",
       " 'doc': 2508,\n",
       " 'last': 4175,\n",
       " 'woot': 7777,\n",
       " 'gonna': 3315,\n",
       " 'celebrate': 1814,\n",
       " 'stuffing': 6722,\n",
       " 'face': 2879,\n",
       " 'urgent': 7386,\n",
       " '09066350750': 258,\n",
       " 'landline': 4155,\n",
       " 'complimentary': 2054,\n",
       " 'ibiza': 3720,\n",
       " '000': 1,\n",
       " 'cash': 1785,\n",
       " 'await': 1263,\n",
       " 'sae': 6045,\n",
       " 'po': 5438,\n",
       " 'box': 1557,\n",
       " '434': 551,\n",
       " 'sk3': 6370,\n",
       " '8wp': 807,\n",
       " '150': 347,\n",
       " 'ppm': 5524,\n",
       " 'six': 6367,\n",
       " 'chances': 1836,\n",
       " '20': 395,\n",
       " 'csh11': 2215,\n",
       " '87575': 781,\n",
       " '6days': 672,\n",
       " 'tsandcs': 7242,\n",
       " 'hl': 3590,\n",
       " 'info': 3812,\n",
       " 'trying': 7240,\n",
       " 'shows': 6308,\n",
       " '800': 714,\n",
       " 'guaranteed': 3404,\n",
       " '09050003091': 194,\n",
       " 'land': 4153,\n",
       " 'c52': 1701,\n",
       " 'valid': 7424,\n",
       " '12hrs': 331,\n",
       " '09050001808': 192,\n",
       " 'm95': 4437,\n",
       " 'valid12hrs': 7425,\n",
       " 'evening': 2800,\n",
       " 'wan2': 7563,\n",
       " 'meet': 4578,\n",
       " 'greet': 3378,\n",
       " 'westlife': 7657,\n",
       " 'm8': 4435,\n",
       " 'tour': 7178,\n",
       " 'unbreakable': 7315,\n",
       " 'untamed': 7361,\n",
       " 'unkempt': 7346,\n",
       " '83049': 741,\n",
       " '50p': 607,\n",
       " 'think': 7023,\n",
       " 've': 7443,\n",
       " 'fixed': 3022,\n",
       " 'test': 6959,\n",
       " 'nooooooo': 4979,\n",
       " 'bored': 1538,\n",
       " 'death': 2321,\n",
       " 'cable': 1704,\n",
       " 'internet': 3853,\n",
       " 'outage': 5180,\n",
       " 'stuff': 6719,\n",
       " '4mths': 587,\n",
       " 'phone': 5357,\n",
       " '11mths': 319,\n",
       " 'mobilesdirect': 4706,\n",
       " '08000938767': 58,\n",
       " 'or2stoptxt': 5146,\n",
       " 'remember': 5868,\n",
       " 'those': 7039,\n",
       " 'whom': 7688,\n",
       " 'hurt': 3704,\n",
       " 'during': 2625,\n",
       " 'days': 2305,\n",
       " 'satanic': 6084,\n",
       " 'imposter': 3777,\n",
       " 'need': 4894,\n",
       " 'pay': 5285,\n",
       " 'destiny': 2399,\n",
       " 'said': 6052,\n",
       " 'pray': 5540,\n",
       " 'sunshine': 6789,\n",
       " 'super': 6792,\n",
       " 'sony': 6486,\n",
       " 'recorder': 5816,\n",
       " 'canname': 1749,\n",
       " 'capital': 1755,\n",
       " 'australia': 1244,\n",
       " 'mquiz': 4777,\n",
       " '82277': 736,\n",
       " 'havent': 3500,\n",
       " 'lei': 4227,\n",
       " 'mon': 4729,\n",
       " 'got': 3335,\n",
       " 'shitload': 6272,\n",
       " 'diamonds': 2423,\n",
       " 'though': 7042,\n",
       " 'bahamas': 1299,\n",
       " 'callfreefone': 1725,\n",
       " '08081560665': 67,\n",
       " 'speak': 6530,\n",
       " 'live': 4307,\n",
       " 'operator': 5130,\n",
       " 'either': 2690,\n",
       " 'cruise': 2208,\n",
       " '2000': 397,\n",
       " '07786200117': 36,\n",
       " 'tessy': 6958,\n",
       " 'pls': 5430,\n",
       " 'favor': 2933,\n",
       " 'convey': 2113,\n",
       " 'birthday': 1465,\n",
       " 'wishes': 7730,\n",
       " 'nimya': 4949,\n",
       " 'dnt': 2504,\n",
       " 'forget': 3086,\n",
       " 'shijas': 6258,\n",
       " 'happy': 3476,\n",
       " 'woo': 7774,\n",
       " 'hoo': 3625,\n",
       " 'party': 5267,\n",
       " 'dude': 2613,\n",
       " 'balance': 1305,\n",
       " '600': 638,\n",
       " 'complete': 2049,\n",
       " 'landmark': 4158,\n",
       " 'big': 1446,\n",
       " 'bob': 1514,\n",
       " 'barry': 1334,\n",
       " 'ben': 1419,\n",
       " '83738': 752,\n",
       " 'whats': 7666,\n",
       " 'staff': 6606,\n",
       " 'class': 1945,\n",
       " 'us': 7395,\n",
       " 'vodafone': 7502,\n",
       " 'computer': 2060,\n",
       " 'picked': 5373,\n",
       " 'easy': 2650,\n",
       " '09061743386': 228,\n",
       " 'linerental': 4281,\n",
       " 'tooth': 7156,\n",
       " 'or2optout': 5145,\n",
       " 'hv9d': 3710,\n",
       " 'boo': 1525,\n",
       " 'enjoyin': 2741,\n",
       " 'yourjob': 7910,\n",
       " 'seemed': 6157,\n",
       " 'gettin': 3253,\n",
       " 'well': 7642,\n",
       " 'hunny': 3698,\n",
       " 'ure': 7384,\n",
       " 'care': 1764,\n",
       " 'llspeak': 4317,\n",
       " '2u': 469,\n",
       " 'soonlots': 6491,\n",
       " 'loveme': 4381,\n",
       " 'xxxx': 7854,\n",
       " 'road': 5977,\n",
       " 'morning': 4752,\n",
       " 'yeah': 7875,\n",
       " 'lemme': 4228,\n",
       " 'anything': 1095,\n",
       " 'goin': 3302,\n",
       " 'time': 7080,\n",
       " 'coming': 2029,\n",
       " 'down': 2559,\n",
       " 'content': 2100,\n",
       " 'order': 5152,\n",
       " 'resent': 5909,\n",
       " 'previous': 5579,\n",
       " 'attempt': 1223,\n",
       " 'failed': 2889,\n",
       " 'due': 2615,\n",
       " 'network': 4914,\n",
       " 'error': 2773,\n",
       " 'queries': 5698,\n",
       " 'customersqueries': 2252,\n",
       " 'netvision': 4913,\n",
       " 'receiving': 5803,\n",
       " 'triple': 7222,\n",
       " 'echo': 2657,\n",
       " 'shortly': 6291,\n",
       " 'enjoy': 2739,\n",
       " 'friend': 3140,\n",
       " 'xmas': 7846,\n",
       " '08718726971': 163,\n",
       " '10p': 309,\n",
       " 'minute': 4657,\n",
       " 'bt': 1647,\n",
       " 'national': 4868,\n",
       " 'fantasies': 2913,\n",
       " '08707509020': 99,\n",
       " '20p': 406,\n",
       " 'min': 4639,\n",
       " 'ntt': 5017,\n",
       " 'ltd': 4400,\n",
       " '1327': 335,\n",
       " 'croydon': 2204,\n",
       " 'cr9': 2171,\n",
       " '5wb': 633,\n",
       " '0870': 78,\n",
       " 'membership': 4595,\n",
       " 'jackpot': 3922,\n",
       " '81010': 729,\n",
       " 'dbuk': 2309,\n",
       " 'net': 4909,\n",
       " 'lccltd': 4197,\n",
       " '4403ldnw1a7rw18': 554,\n",
       " 're': 5764,\n",
       " 'finn': 3007,\n",
       " 'want': 7566,\n",
       " 'handset': 3458,\n",
       " '750': 692,\n",
       " 'anytime': 1097,\n",
       " '08000930705': 57,\n",
       " 'tomorrow': 7139,\n",
       " 'haf': 3436,\n",
       " 'lunch': 4411,\n",
       " 'canteen': 1753,\n",
       " 'dont': 2540,\n",
       " 'baby': 1289,\n",
       " 'im': 3757,\n",
       " 'nasty': 4862,\n",
       " 'filthyguys': 2990,\n",
       " 'fancy': 2911,\n",
       " 'rude': 6019,\n",
       " 'sexy': 6216,\n",
       " 'bitch': 1468,\n",
       " 'slo': 6402,\n",
       " 'hard': 3477,\n",
       " '4msgs': 586,\n",
       " 'much': 4799,\n",
       " 'fights': 2976,\n",
       " 'was': 7580,\n",
       " 'nite': 4954,\n",
       " 'wat': 7586,\n",
       " 'yep': 7884,\n",
       " 'like': 4263,\n",
       " 'pink': 5391,\n",
       " 'furniture': 3182,\n",
       " 'tho': 7038,\n",
       " 'lesson': 4235,\n",
       " 'early': 2639,\n",
       " 'still': 6658,\n",
       " 'sleepin': 6388,\n",
       " 'okie': 5088,\n",
       " 'liao': 4244,\n",
       " 'den': 2367,\n",
       " 'confirm': 2075,\n",
       " 'lor': 4358,\n",
       " 'times': 7081,\n",
       " 'job': 3971,\n",
       " 'umma': 7308,\n",
       " 'ask': 1190,\n",
       " 'them': 7002,\n",
       " 'speed': 6541,\n",
       " 'free2day': 3121,\n",
       " 'st': 6603,\n",
       " 'george': 3243,\n",
       " 'pic': 5371,\n",
       " 'jordan': 3991,\n",
       " '89080': 794,\n",
       " 'wk': 7746,\n",
       " 'saucy': 6089,\n",
       " 'celeb': 1813,\n",
       " 'pics': 5376,\n",
       " 'pocketbabe': 5455,\n",
       " '0870241182716': 90,\n",
       " 'guy': 3423,\n",
       " 'flash': 3027,\n",
       " 'madam': 4455,\n",
       " 'torch': 7164,\n",
       " '9ja': 824,\n",
       " '4882': 571,\n",
       " '350': 501,\n",
       " 'matches': 4532,\n",
       " '09064019014': 248,\n",
       " 'lions': 4291,\n",
       " 'england': 2737,\n",
       " 'lionm': 4289,\n",
       " 'mono': 4737,\n",
       " 'lionp': 4290,\n",
       " 'poly': 5470,\n",
       " 'ringtones': 5969,\n",
       " 'original': 5161,\n",
       " 'tones': 7141,\n",
       " '3gbp': 517,\n",
       " 'wet': 7660,\n",
       " 'right': 5960,\n",
       " 'grandmas': 3360,\n",
       " 'dear': 2317,\n",
       " 'ill': 3754,\n",
       " 'felt': 2954,\n",
       " 'shit': 6269,\n",
       " 'hungover': 3695,\n",
       " 'another': 1074,\n",
       " 'night': 4942,\n",
       " 'leave': 4215,\n",
       " 'sat': 6083,\n",
       " 'watching': 7590,\n",
       " 'here': 3552,\n",
       " 'dinner': 2458,\n",
       " 'tonight': 7146,\n",
       " 'pizza': 5397,\n",
       " 'happen': 3466,\n",
       " 'behave': 1404,\n",
       " 'say': 6094,\n",
       " 'yar': 7867,\n",
       " 'tot': 7170,\n",
       " 'knew': 4101,\n",
       " 'dis': 2470,\n",
       " 'would': 7803,\n",
       " 'long': 4344,\n",
       " 'ago': 959,\n",
       " '08715205273': 144,\n",
       " 'she': 6246,\n",
       " 'ran': 5740,\n",
       " 'off': 5060,\n",
       " 'younger': 7906,\n",
       " 'man': 4489,\n",
       " 'make': 4479,\n",
       " 'babies': 1288,\n",
       " 'together': 7124,\n",
       " 'thanx': 6988,\n",
       " 'monday': 4730,\n",
       " '0776xxxxxxx': 34,\n",
       " 'invited': 3868,\n",
       " 'xchat': 7843,\n",
       " 'chat': 1859,\n",
       " '86688': 770,\n",
       " 'msgrcvdhg': 4788,\n",
       " 'w1j6hl': 7526,\n",
       " 'ldn': 4200,\n",
       " '18yrs': 370,\n",
       " '07801543489': 39,\n",
       " 'latests': 4182,\n",
       " '40gb': 541,\n",
       " 'ipod': 3880,\n",
       " 'mp3': 4776,\n",
       " 'player': 5415,\n",
       " '83355': 747,\n",
       " 'tc': 6908,\n",
       " 'llc': 4316,\n",
       " 'ny': 5036,\n",
       " 'usa': 7396,\n",
       " 'mt': 4790,\n",
       " 'msgrcvd18': 4787,\n",
       " 'nothing': 4998,\n",
       " 'tht': 7060,\n",
       " 'unknown': 7347,\n",
       " 'thesmszone': 7014,\n",
       " 'lets': 4238,\n",
       " 'anonymous': 1072,\n",
       " 'masked': 4524,\n",
       " 'messages': 4614,\n",
       " 'sending': 6180,\n",
       " 'see': 6152,\n",
       " 'potential': 5511,\n",
       " 'abuse': 858,\n",
       " '6months': 677,\n",
       " 'available': 1251,\n",
       " 'n9dx': 4839,\n",
       " 'yr': 7917,\n",
       " 'representative': 5902,\n",
       " 'training': 7191,\n",
       " 'which': 7680,\n",
       " 'country': 2154,\n",
       " 'liverpool': 4310,\n",
       " 'played': 5414,\n",
       " 'mid': 4626,\n",
       " 'ansr': 1076,\n",
       " 'sp': 6518,\n",
       " 'tyrone': 7291,\n",
       " 'tirunelvali': 7090,\n",
       " 'uncle': 7317,\n",
       " 'spend': 6547,\n",
       " 'amount': 1042,\n",
       " 'money': 4732,\n",
       " 'feb': 2941,\n",
       " 'somebody': 6467,\n",
       " 'secretly': 6146,\n",
       " 'fancies': 2910,\n",
       " 'wanna': 7565,\n",
       " '09065394514': 254,\n",
       " 'datebox1282essexcm61xn': 2299,\n",
       " 'hopefully': 3635,\n",
       " 'tyler': 7287,\n",
       " 'could': 2148,\n",
       " 'maybe': 4553,\n",
       " 'bit': 1467,\n",
       " 'lot': 4365,\n",
       " 'things': 7022,\n",
       " 'happening': 3470,\n",
       " 'lindsay': 4277,\n",
       " 'sighs': 6325,\n",
       " 'some': 6465,\n",
       " 'bars': 1335,\n",
       " 'ptbo': 5656,\n",
       " 'blue': 1506,\n",
       " 'heron': 3555,\n",
       " 'something': 6473,\n",
       " 'gt': 3401,\n",
       " 'bus': 1676,\n",
       " 'wont': 7773,\n",
       " 'wit': 7735,\n",
       " 'guys': 3424,\n",
       " 'ya': 7861,\n",
       " 'referin': 5831,\n",
       " 'mei': 4586,\n",
       " 'ex': 2827,\n",
       " 'ah': 961,\n",
       " 'waitin': 7545,\n",
       " 'treat': 7211,\n",
       " 'shld': 6274,\n",
       " 'rich': 5956,\n",
       " 'gd': 3225,\n",
       " 'onwards': 5118,\n",
       " 'private': 5595,\n",
       " '2003': 398,\n",
       " 'account': 876,\n",
       " 'statement': 6629,\n",
       " '07808247860': 41,\n",
       " 'un': 7312,\n",
       " 'redeemed': 5825,\n",
       " 'points': 5462,\n",
       " '08719899229': 181,\n",
       " 'identifier': 3734,\n",
       " '40411': 539,\n",
       " 'expires': 2857,\n",
       " '06': 21,\n",
       " '11': 312,\n",
       " '04': 16,\n",
       " 'really': 5783,\n",
       " 'horny': 3640,\n",
       " 'naked': 4848,\n",
       " '69698': 663,\n",
       " '150pm': 351,\n",
       " 'unsubscribe': 7359,\n",
       " 'spent': 6549,\n",
       " 'phasing': 5349,\n",
       " 'fourth': 3108,\n",
       " 'dimension': 2451,\n",
       " 'bird': 1460,\n",
       " 'purchases': 5673,\n",
       " 'yet': 7889,\n",
       " 'meeting': 4580,\n",
       " 'okay': 5085,\n",
       " 'legal': 4223,\n",
       " 'wen': 7645,\n",
       " 'pick': 5372,\n",
       " 'ave': 1255,\n",
       " 'ams': 1047,\n",
       " 'xx': 7849,\n",
       " '08707500020': 98,\n",
       " 'eng': 2732,\n",
       " 'rocking': 5982,\n",
       " 'ashes': 1184,\n",
       " 'place': 5399,\n",
       " 'town': 7180,\n",
       " 'exciting': 2836,\n",
       " 'adult': 922,\n",
       " 'singles': 6350,\n",
       " 'weeks': 7632,\n",
       " 'savamob': 6090,\n",
       " 'member': 4593,\n",
       " 'offers': 5067,\n",
       " 'accessible': 866,\n",
       " '08709501522': 105,\n",
       " 'details': 2402,\n",
       " '139': 336,\n",
       " 'la3': 4135,\n",
       " '2wu': 474,\n",
       " 'sary': 6081,\n",
       " 'tim': 7079,\n",
       " 'bollox': 1519,\n",
       " 'tol': 7129,\n",
       " 'disturb': 2490,\n",
       " 'talk': 6877,\n",
       " 'ne': 4882,\n",
       " 'plans': 5410,\n",
       " 'nxt': 5035,\n",
       " 'wknd': 7751,\n",
       " 'coz': 2167,\n",
       " 'wants': 7570,\n",
       " 'yesterday': 7888,\n",
       " 'wonderful': 7770,\n",
       " 'enjoyed': 2740,\n",
       " 'burial': 1670,\n",
       " 'mojibiola': 4722,\n",
       " 'laugh': 4184,\n",
       " 'try': 7238,\n",
       " 'chit': 1912,\n",
       " 'logon': 4335,\n",
       " '8883': 789,\n",
       " 'cm': 1980,\n",
       " '4217': 547,\n",
       " 'london': 4341,\n",
       " 'w1a': 7524,\n",
       " '6zf': 683,\n",
       " '118p': 318,\n",
       " '2nd': 457,\n",
       " 'tried': 7220,\n",
       " 'pound': 5514,\n",
       " '08712101358': 108,\n",
       " 'buy': 1687,\n",
       " 'newspapers': 4929,\n",
       " 'getting': 3254,\n",
       " 'touch': 7174,\n",
       " 'folks': 3060,\n",
       " 'company': 2039,\n",
       " 'age': 952,\n",
       " 'community': 2034,\n",
       " 'oranges': 5149,\n",
       " 'colour': 2015,\n",
       " 'mobiles': 4705,\n",
       " 'unlimited': 7350,\n",
       " 'weekend': 7629,\n",
       " 'calls': 1729,\n",
       " 'upd8': 7367,\n",
       " 'freefone': 3124,\n",
       " '2stoptx': 467,\n",
       " 'followed': 3062,\n",
       " 'gender': 3231,\n",
       " 'wither': 7738,\n",
       " '23f': 414,\n",
       " 'gay': 3217,\n",
       " 'men': 4598,\n",
       " '23g': 415,\n",
       " 'tease': 6921,\n",
       " 'cry': 2211,\n",
       " 'life': 4253,\n",
       " 'die': 2433,\n",
       " 'rose': 5999,\n",
       " 'grave': 3366,\n",
       " 'stupid': 6724,\n",
       " 'bslvyl': 1643,\n",
       " 'thk': 7033,\n",
       " 'gave': 3216,\n",
       " 'freemsg': 3127,\n",
       " 'flirt': 3037,\n",
       " 'date': 2298,\n",
       " 'join': 3978,\n",
       " 'uks': 7303,\n",
       " 'fastest': 2923,\n",
       " 'growing': 3393,\n",
       " 'msgs': 4789,\n",
       " '25p': 423,\n",
       " 'optout': 5143,\n",
       " '83021': 739,\n",
       " 'response': 5922,\n",
       " 'offer': 5064,\n",
       " 'fone': 3068,\n",
       " 'camcorder': 1733,\n",
       " ...}"
      ]
     },
     "execution_count": 55,
     "metadata": {},
     "output_type": "execute_result"
    }
   ],
   "source": [
    "cvec.vocabulary_"
   ]
  },
  {
   "cell_type": "code",
   "execution_count": 56,
   "id": "7f23d4bd",
   "metadata": {},
   "outputs": [
    {
     "data": {
      "text/plain": [
       "array(['00', '000', '000pes', ..., 'zoom', 'zouk', 'zyada'], dtype=object)"
      ]
     },
     "execution_count": 56,
     "metadata": {},
     "output_type": "execute_result"
    }
   ],
   "source": [
    "cvec.get_feature_names_out()"
   ]
  },
  {
   "cell_type": "code",
   "execution_count": 57,
   "id": "6b8e2751",
   "metadata": {},
   "outputs": [
    {
     "data": {
      "text/plain": [
       "(7940,)"
      ]
     },
     "execution_count": 57,
     "metadata": {},
     "output_type": "execute_result"
    }
   ],
   "source": [
    "cvec.get_feature_names_out().shape"
   ]
  },
  {
   "cell_type": "code",
   "execution_count": 58,
   "id": "4c7e9cff",
   "metadata": {},
   "outputs": [
    {
     "data": {
      "text/plain": [
       "<7720x7940 sparse matrix of type '<class 'numpy.int64'>'\n",
       "\twith 130142 stored elements in Compressed Sparse Row format>"
      ]
     },
     "execution_count": 58,
     "metadata": {},
     "output_type": "execute_result"
    }
   ],
   "source": [
    "cvec_Xtrain"
   ]
  },
  {
   "cell_type": "code",
   "execution_count": 59,
   "id": "924907e9",
   "metadata": {},
   "outputs": [
    {
     "data": {
      "text/plain": [
       "<1930x7940 sparse matrix of type '<class 'numpy.int64'>'\n",
       "\twith 31845 stored elements in Compressed Sparse Row format>"
      ]
     },
     "execution_count": 59,
     "metadata": {},
     "output_type": "execute_result"
    }
   ],
   "source": [
    "cvec_Xtest"
   ]
  },
  {
   "cell_type": "code",
   "execution_count": 60,
   "id": "293009a9",
   "metadata": {},
   "outputs": [],
   "source": [
    "from sklearn.feature_extraction.text import TfidfTransformer"
   ]
  },
  {
   "cell_type": "code",
   "execution_count": 62,
   "id": "bdaf8e44",
   "metadata": {},
   "outputs": [],
   "source": [
    "trans=TfidfTransformer()"
   ]
  },
  {
   "cell_type": "code",
   "execution_count": 63,
   "id": "6e667db9",
   "metadata": {},
   "outputs": [
    {
     "data": {
      "text/plain": [
       "TfidfTransformer()"
      ]
     },
     "execution_count": 63,
     "metadata": {},
     "output_type": "execute_result"
    }
   ],
   "source": [
    "trans.fit(cvec_Xtrain)"
   ]
  },
  {
   "cell_type": "code",
   "execution_count": 64,
   "id": "892ead39",
   "metadata": {},
   "outputs": [],
   "source": [
    "trans_Xtrain = trans.transform(cvec_Xtrain)"
   ]
  },
  {
   "cell_type": "code",
   "execution_count": 65,
   "id": "9dd697ac",
   "metadata": {},
   "outputs": [],
   "source": [
    "trans_Xtest = trans.transform(cvec_Xtest)"
   ]
  },
  {
   "cell_type": "code",
   "execution_count": 66,
   "id": "972cfe2a",
   "metadata": {},
   "outputs": [
    {
     "data": {
      "text/plain": [
       "array([[0., 0., 0., ..., 0., 0., 0.],\n",
       "       [0., 0., 0., ..., 0., 0., 0.],\n",
       "       [0., 0., 0., ..., 0., 0., 0.],\n",
       "       ...,\n",
       "       [0., 0., 0., ..., 0., 0., 0.],\n",
       "       [0., 0., 0., ..., 0., 0., 0.],\n",
       "       [0., 0., 0., ..., 0., 0., 0.]])"
      ]
     },
     "execution_count": 66,
     "metadata": {},
     "output_type": "execute_result"
    }
   ],
   "source": [
    "trans_Xtrain.toarray()"
   ]
  },
  {
   "cell_type": "code",
   "execution_count": 67,
   "id": "f0ce5a58",
   "metadata": {},
   "outputs": [
    {
     "data": {
      "text/plain": [
       "array([[0., 0., 0., ..., 0., 0., 0.],\n",
       "       [0., 0., 0., ..., 0., 0., 0.],\n",
       "       [0., 0., 0., ..., 0., 0., 0.],\n",
       "       ...,\n",
       "       [0., 0., 0., ..., 0., 0., 0.],\n",
       "       [0., 0., 0., ..., 0., 0., 0.],\n",
       "       [0., 0., 0., ..., 0., 0., 0.]])"
      ]
     },
     "execution_count": 67,
     "metadata": {},
     "output_type": "execute_result"
    }
   ],
   "source": [
    "trans_Xtest.toarray()"
   ]
  },
  {
   "cell_type": "code",
   "execution_count": 68,
   "id": "8f827018",
   "metadata": {},
   "outputs": [],
   "source": [
    "from sklearn.naive_bayes import MultinomialNB"
   ]
  },
  {
   "cell_type": "code",
   "execution_count": 69,
   "id": "2f4c9a39",
   "metadata": {},
   "outputs": [],
   "source": [
    "mnb = MultinomialNB()"
   ]
  },
  {
   "cell_type": "code",
   "execution_count": 70,
   "id": "4501a375",
   "metadata": {},
   "outputs": [
    {
     "data": {
      "text/plain": [
       "MultinomialNB()"
      ]
     },
     "execution_count": 70,
     "metadata": {},
     "output_type": "execute_result"
    }
   ],
   "source": [
    "mnb"
   ]
  },
  {
   "cell_type": "code",
   "execution_count": 71,
   "id": "839b17ab",
   "metadata": {},
   "outputs": [
    {
     "data": {
      "text/plain": [
       "MultinomialNB()"
      ]
     },
     "execution_count": 71,
     "metadata": {},
     "output_type": "execute_result"
    }
   ],
   "source": [
    "mnb.fit(trans_Xtrain,y_train)"
   ]
  },
  {
   "cell_type": "code",
   "execution_count": 72,
   "id": "a33c1f7f",
   "metadata": {},
   "outputs": [
    {
     "data": {
      "text/plain": [
       "0.9797927461139896"
      ]
     },
     "execution_count": 72,
     "metadata": {},
     "output_type": "execute_result"
    }
   ],
   "source": [
    "mnb.score(trans_Xtest,y_test)"
   ]
  },
  {
   "cell_type": "code",
   "execution_count": null,
   "id": "16ca3f01",
   "metadata": {},
   "outputs": [],
   "source": []
  }
 ],
 "metadata": {
  "kernelspec": {
   "display_name": "Python 3 (ipykernel)",
   "language": "python",
   "name": "python3"
  },
  "language_info": {
   "codemirror_mode": {
    "name": "ipython",
    "version": 3
   },
   "file_extension": ".py",
   "mimetype": "text/x-python",
   "name": "python",
   "nbconvert_exporter": "python",
   "pygments_lexer": "ipython3",
   "version": "3.9.13"
  }
 },
 "nbformat": 4,
 "nbformat_minor": 5
}
